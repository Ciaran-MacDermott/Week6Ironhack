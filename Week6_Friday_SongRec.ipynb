{
 "cells": [
  {
   "cell_type": "code",
   "execution_count": 38,
   "id": "0940ecd5",
   "metadata": {},
   "outputs": [],
   "source": [
    "import config\n",
    "import pandas as pd\n",
    "import numpy as np\n",
    "import spotipy\n",
    "import json\n",
    "from spotipy.oauth2 import SpotifyClientCredentials\n",
    "from IPython.display import IFrame\n",
    "from difflib import get_close_matches\n",
    "import pickle\n",
    "from sklearn import datasets # sklearn comes with some toy datasets to practise\n",
    "from sklearn.preprocessing import StandardScaler\n",
    "from sklearn.cluster import KMeans\n",
    "import random\n",
    "\n",
    "sp = spotipy.Spotify(auth_manager=SpotifyClientCredentials(client_id= config.client_id,\n",
    "                                                           client_secret= config.client_secret))\n"
   ]
  },
  {
   "cell_type": "code",
   "execution_count": 39,
   "id": "78f88db3",
   "metadata": {},
   "outputs": [],
   "source": [
    "df = pd.read_csv('/Users/ciaranmacdermott/Documents/GitHub/Ciaran_ironhack_excercisesdf_scale.csv',sep='\\t')"
   ]
  },
  {
   "cell_type": "code",
   "execution_count": 40,
   "id": "3117b826",
   "metadata": {},
   "outputs": [
    {
     "data": {
      "text/html": [
       "<div>\n",
       "<style scoped>\n",
       "    .dataframe tbody tr th:only-of-type {\n",
       "        vertical-align: middle;\n",
       "    }\n",
       "\n",
       "    .dataframe tbody tr th {\n",
       "        vertical-align: top;\n",
       "    }\n",
       "\n",
       "    .dataframe thead th {\n",
       "        text-align: right;\n",
       "    }\n",
       "</style>\n",
       "<table border=\"1\" class=\"dataframe\">\n",
       "  <thead>\n",
       "    <tr style=\"text-align: right;\">\n",
       "      <th></th>\n",
       "      <th>danceability</th>\n",
       "      <th>energy</th>\n",
       "      <th>key</th>\n",
       "      <th>speechiness</th>\n",
       "      <th>acousticness</th>\n",
       "      <th>instrumentalness</th>\n",
       "      <th>liveness</th>\n",
       "      <th>valence</th>\n",
       "      <th>tempo</th>\n",
       "      <th>cluster</th>\n",
       "      <th>song_identity</th>\n",
       "    </tr>\n",
       "  </thead>\n",
       "  <tbody>\n",
       "    <tr>\n",
       "      <th>0</th>\n",
       "      <td>0.354927</td>\n",
       "      <td>-0.072698</td>\n",
       "      <td>-0.646095</td>\n",
       "      <td>-0.209487</td>\n",
       "      <td>-0.124415</td>\n",
       "      <td>-0.360594</td>\n",
       "      <td>-0.267026</td>\n",
       "      <td>0.618545</td>\n",
       "      <td>-1.283255</td>\n",
       "      <td>9</td>\n",
       "      <td>7ByfFjT83MNmisdzhZ50Fv</td>\n",
       "    </tr>\n",
       "    <tr>\n",
       "      <th>1</th>\n",
       "      <td>1.666781</td>\n",
       "      <td>0.908642</td>\n",
       "      <td>-1.478068</td>\n",
       "      <td>0.147759</td>\n",
       "      <td>-0.444464</td>\n",
       "      <td>-0.360594</td>\n",
       "      <td>-0.246063</td>\n",
       "      <td>1.140146</td>\n",
       "      <td>0.116920</td>\n",
       "      <td>9</td>\n",
       "      <td>1H5tvpoApNDxvxDexoaAUo</td>\n",
       "    </tr>\n",
       "    <tr>\n",
       "      <th>2</th>\n",
       "      <td>-0.659066</td>\n",
       "      <td>-0.345855</td>\n",
       "      <td>-1.200744</td>\n",
       "      <td>-0.519505</td>\n",
       "      <td>-0.580756</td>\n",
       "      <td>-0.360594</td>\n",
       "      <td>0.194157</td>\n",
       "      <td>-0.614697</td>\n",
       "      <td>-1.154326</td>\n",
       "      <td>8</td>\n",
       "      <td>6xcjGCRaSGl7wSpxAdCp0j</td>\n",
       "    </tr>\n",
       "    <tr>\n",
       "      <th>3</th>\n",
       "      <td>1.755505</td>\n",
       "      <td>-0.219393</td>\n",
       "      <td>-0.368771</td>\n",
       "      <td>3.922460</td>\n",
       "      <td>0.271835</td>\n",
       "      <td>-0.360583</td>\n",
       "      <td>5.295115</td>\n",
       "      <td>1.204841</td>\n",
       "      <td>-0.243298</td>\n",
       "      <td>1</td>\n",
       "      <td>0nyrltZrQGAJMBZc1bYvuQ</td>\n",
       "    </tr>\n",
       "    <tr>\n",
       "      <th>4</th>\n",
       "      <td>0.240853</td>\n",
       "      <td>-0.548193</td>\n",
       "      <td>1.017850</td>\n",
       "      <td>-0.702366</td>\n",
       "      <td>-0.514134</td>\n",
       "      <td>-0.360594</td>\n",
       "      <td>0.718228</td>\n",
       "      <td>1.803266</td>\n",
       "      <td>-0.446624</td>\n",
       "      <td>7</td>\n",
       "      <td>1eRqy8jW4ZLMJR6dl3xsgI</td>\n",
       "    </tr>\n",
       "    <tr>\n",
       "      <th>...</th>\n",
       "      <td>...</td>\n",
       "      <td>...</td>\n",
       "      <td>...</td>\n",
       "      <td>...</td>\n",
       "      <td>...</td>\n",
       "      <td>...</td>\n",
       "      <td>...</td>\n",
       "      <td>...</td>\n",
       "      <td>...</td>\n",
       "      <td>...</td>\n",
       "      <td>...</td>\n",
       "    </tr>\n",
       "    <tr>\n",
       "      <th>6409</th>\n",
       "      <td>-0.316843</td>\n",
       "      <td>0.812531</td>\n",
       "      <td>1.017850</td>\n",
       "      <td>-0.520716</td>\n",
       "      <td>-0.701069</td>\n",
       "      <td>-0.360594</td>\n",
       "      <td>2.297429</td>\n",
       "      <td>-0.279093</td>\n",
       "      <td>1.246274</td>\n",
       "      <td>1</td>\n",
       "      <td>2mumY7rLurSxmnWIC1PCtc</td>\n",
       "    </tr>\n",
       "    <tr>\n",
       "      <th>6410</th>\n",
       "      <td>-0.437255</td>\n",
       "      <td>0.964285</td>\n",
       "      <td>0.463201</td>\n",
       "      <td>0.567978</td>\n",
       "      <td>-0.686568</td>\n",
       "      <td>-0.360594</td>\n",
       "      <td>-0.232088</td>\n",
       "      <td>0.295072</td>\n",
       "      <td>-0.748485</td>\n",
       "      <td>2</td>\n",
       "      <td>4ofZe3eFWlNKC0FYEFOSvG</td>\n",
       "    </tr>\n",
       "    <tr>\n",
       "      <th>6411</th>\n",
       "      <td>1.559044</td>\n",
       "      <td>1.080629</td>\n",
       "      <td>0.185877</td>\n",
       "      <td>-0.547358</td>\n",
       "      <td>-0.015555</td>\n",
       "      <td>-0.360594</td>\n",
       "      <td>-0.898706</td>\n",
       "      <td>0.517460</td>\n",
       "      <td>-0.505726</td>\n",
       "      <td>7</td>\n",
       "      <td>1rfgs4royNOYxw269vuTTT</td>\n",
       "    </tr>\n",
       "    <tr>\n",
       "      <th>6412</th>\n",
       "      <td>-0.443592</td>\n",
       "      <td>0.068938</td>\n",
       "      <td>1.295174</td>\n",
       "      <td>3.619709</td>\n",
       "      <td>-0.437932</td>\n",
       "      <td>-0.360594</td>\n",
       "      <td>4.477564</td>\n",
       "      <td>-0.440830</td>\n",
       "      <td>-0.274567</td>\n",
       "      <td>1</td>\n",
       "      <td>61QSuw5VlC0LTS8WMO356g</td>\n",
       "    </tr>\n",
       "    <tr>\n",
       "      <th>6413</th>\n",
       "      <td>-1.001289</td>\n",
       "      <td>0.595018</td>\n",
       "      <td>-0.368771</td>\n",
       "      <td>-0.302735</td>\n",
       "      <td>-0.692534</td>\n",
       "      <td>-0.360594</td>\n",
       "      <td>-0.525568</td>\n",
       "      <td>-1.116081</td>\n",
       "      <td>0.601304</td>\n",
       "      <td>6</td>\n",
       "      <td>4xDwCYhobDehSBGUmd5H6Y</td>\n",
       "    </tr>\n",
       "  </tbody>\n",
       "</table>\n",
       "<p>6414 rows × 11 columns</p>\n",
       "</div>"
      ],
      "text/plain": [
       "      danceability    energy       key  speechiness  acousticness  \\\n",
       "0         0.354927 -0.072698 -0.646095    -0.209487     -0.124415   \n",
       "1         1.666781  0.908642 -1.478068     0.147759     -0.444464   \n",
       "2        -0.659066 -0.345855 -1.200744    -0.519505     -0.580756   \n",
       "3         1.755505 -0.219393 -0.368771     3.922460      0.271835   \n",
       "4         0.240853 -0.548193  1.017850    -0.702366     -0.514134   \n",
       "...            ...       ...       ...          ...           ...   \n",
       "6409     -0.316843  0.812531  1.017850    -0.520716     -0.701069   \n",
       "6410     -0.437255  0.964285  0.463201     0.567978     -0.686568   \n",
       "6411      1.559044  1.080629  0.185877    -0.547358     -0.015555   \n",
       "6412     -0.443592  0.068938  1.295174     3.619709     -0.437932   \n",
       "6413     -1.001289  0.595018 -0.368771    -0.302735     -0.692534   \n",
       "\n",
       "      instrumentalness  liveness   valence     tempo  cluster  \\\n",
       "0            -0.360594 -0.267026  0.618545 -1.283255        9   \n",
       "1            -0.360594 -0.246063  1.140146  0.116920        9   \n",
       "2            -0.360594  0.194157 -0.614697 -1.154326        8   \n",
       "3            -0.360583  5.295115  1.204841 -0.243298        1   \n",
       "4            -0.360594  0.718228  1.803266 -0.446624        7   \n",
       "...                ...       ...       ...       ...      ...   \n",
       "6409         -0.360594  2.297429 -0.279093  1.246274        1   \n",
       "6410         -0.360594 -0.232088  0.295072 -0.748485        2   \n",
       "6411         -0.360594 -0.898706  0.517460 -0.505726        7   \n",
       "6412         -0.360594  4.477564 -0.440830 -0.274567        1   \n",
       "6413         -0.360594 -0.525568 -1.116081  0.601304        6   \n",
       "\n",
       "               song_identity  \n",
       "0     7ByfFjT83MNmisdzhZ50Fv  \n",
       "1     1H5tvpoApNDxvxDexoaAUo  \n",
       "2     6xcjGCRaSGl7wSpxAdCp0j  \n",
       "3     0nyrltZrQGAJMBZc1bYvuQ  \n",
       "4     1eRqy8jW4ZLMJR6dl3xsgI  \n",
       "...                      ...  \n",
       "6409  2mumY7rLurSxmnWIC1PCtc  \n",
       "6410  4ofZe3eFWlNKC0FYEFOSvG  \n",
       "6411  1rfgs4royNOYxw269vuTTT  \n",
       "6412  61QSuw5VlC0LTS8WMO356g  \n",
       "6413  4xDwCYhobDehSBGUmd5H6Y  \n",
       "\n",
       "[6414 rows x 11 columns]"
      ]
     },
     "execution_count": 40,
     "metadata": {},
     "output_type": "execute_result"
    }
   ],
   "source": [
    "df=pd.DataFrame(df)\n",
    "df"
   ]
  },
  {
   "cell_type": "code",
   "execution_count": 41,
   "id": "b1feb6a6",
   "metadata": {},
   "outputs": [],
   "source": [
    "def get_playlist_tracks(username, playlist_id):\n",
    "    results = sp.user_playlist_tracks(username,playlist_id)#market=\"GB\"))\n",
    "    tracks = results['items']\n",
    "    while results['next']:\n",
    "        results = sp.next(results)\n",
    "        tracks.extend(results['items'])\n",
    "    return tracks"
   ]
  },
  {
   "cell_type": "code",
   "execution_count": 42,
   "id": "d2691ca8",
   "metadata": {},
   "outputs": [],
   "source": [
    "def load(filename = \"filename.pickle\"): \n",
    "    try: \n",
    "        with open(filename, \"rb\") as f: \n",
    "            return pickle.load(f) \n",
    "        \n",
    "    except FileNotFoundError: \n",
    "        print(\"File not found!\") \n"
   ]
  },
  {
   "cell_type": "code",
   "execution_count": 75,
   "id": "f687480e",
   "metadata": {},
   "outputs": [],
   "source": [
    "def hot_stuff():  \n",
    "\n",
    "    song_choice = str.lower(input('Enter your song: ')) \n",
    "    results = sp.search(q=song_choice,limit=1)\n",
    "    track_id=results[\"tracks\"][\"items\"][0][\"id\"]\n",
    "   \n",
    "    \n",
    "    input_features = sp.audio_features(track_id)\n",
    "\n",
    "    input_feat_df=pd.DataFrame(input_features,columns=[\"danceability\",\"energy\",\"key\",\"speechiness\",\"acousticness\",\n",
    "                                    \"instrumentalness\",\"liveness\",\"valence\",\"tempo\"])\n",
    "    \n",
    "    \n",
    "    scaler2 = load(\"std_scaler.pickle\")\n",
    "    kmeans2 = load(\"kmeans.pickle\")\n",
    "    \n",
    "    input_scaled = scaler2.transform(input_feat_df)\n",
    "    \n",
    "    inputdf_scale=pd.DataFrame(input_scaled,columns=[\"danceability\",\"energy\",\"key\",\"speechiness\",\"acousticness\",\n",
    "                                    \"instrumentalness\",\"liveness\",\"valence\",\"tempo\"])\n",
    "    \n",
    "    prediction = kmeans2.predict(inputdf_scale)\n",
    "    pred = prediction[0]\n",
    "    \n",
    "    clusterdf = df.loc[df['cluster']==pred]\n",
    "    clusterdf.reset_index(drop=True)\n",
    "    \n",
    "    song_idlist = clusterdf['song_identity'].tolist()\n",
    "\n",
    "    songrec= random.choice(song_idlist)\n",
    "\n",
    "\n",
    "    return(IFrame(src=\"https://open.spotify.com/embed/track/\"+songrec,\n",
    "       width=\"320\",\n",
    "       height=\"80\",\n",
    "       frameborder=\"0\",\n",
    "       allowtransparency=\"true\",\n",
    "       allow=\"encrypted-media\"))\n",
    "\n",
    "#(IFrame(src=\"https://open.spotify.com/embed/track/\"+track_id,\n",
    "       #width=\"320\",\n",
    "       #height=\"80\",\n",
    "       #frameborder=\"0\",\n",
    "       #allowtransparency=\"true\",\n",
    "       #allow=\"encrypted-media\"))\n",
    "\n",
    "\n",
    "\n",
    "    "
   ]
  },
  {
   "cell_type": "code",
   "execution_count": 76,
   "id": "e0d5fc56",
   "metadata": {},
   "outputs": [
    {
     "name": "stdout",
     "output_type": "stream",
     "text": [
      "Enter your song: maggot brain\n"
     ]
    },
    {
     "data": {
      "text/html": [
       "\n",
       "        <iframe\n",
       "            width=\"320\"\n",
       "            height=\"80\"\n",
       "            src=\"https://open.spotify.com/embed/track/4J73t9Hlh37OkfLORMsTSn?frameborder=0&allowtransparency=true&allow=encrypted-media\"\n",
       "            frameborder=\"0\"\n",
       "            allowfullscreen\n",
       "            \n",
       "        ></iframe>\n",
       "        "
      ],
      "text/plain": [
       "<IPython.lib.display.IFrame at 0x7fb8ae67a580>"
      ]
     },
     "execution_count": 76,
     "metadata": {},
     "output_type": "execute_result"
    }
   ],
   "source": [
    "hot_stuff()\n"
   ]
  },
  {
   "cell_type": "markdown",
   "id": "ede3359a",
   "metadata": {},
   "source": [
    "# The pre work needed to complete the function"
   ]
  },
  {
   "cell_type": "code",
   "execution_count": null,
   "id": "4cf75891",
   "metadata": {},
   "outputs": [],
   "source": [
    "song_choice = str.lower(input('Enter your song: ')) \n",
    "    results = sp.search(q=song_choice,limit=1)\n",
    "    track_id=results[\"tracks\"][\"items\"][0][\"id\"]"
   ]
  },
  {
   "cell_type": "code",
   "execution_count": null,
   "id": "0435d629",
   "metadata": {},
   "outputs": [],
   "source": [
    "input_features = sp.audio_features(track_id)\n",
    "\n",
    "input_feat_df=pd.DataFrame(input_features,columns=[\"danceability\",\"energy\",\"key\",\"speechiness\",\"acousticness\",\n",
    "                                    \"instrumentalness\",\"liveness\",\"valence\",\"tempo\"])\n",
    "    "
   ]
  },
  {
   "cell_type": "code",
   "execution_count": 56,
   "id": "f6b477c8",
   "metadata": {},
   "outputs": [],
   "source": [
    "def load(filename = \"filename.pickle\"): \n",
    "    try: \n",
    "        with open(filename, \"rb\") as f: \n",
    "            return pickle.load(f) \n",
    "        \n",
    "    except FileNotFoundError: \n",
    "        print(\"File not found!\") \n"
   ]
  },
  {
   "cell_type": "code",
   "execution_count": 57,
   "id": "249d49ba",
   "metadata": {},
   "outputs": [],
   "source": [
    "scaler2 = load(\"std_scaler.pickle\")\n",
    "kmeans2 = load(\"kmeans.pickle\")\n"
   ]
  },
  {
   "cell_type": "code",
   "execution_count": 58,
   "id": "9f8b600c",
   "metadata": {},
   "outputs": [
    {
     "ename": "NameError",
     "evalue": "name 'input_feat_df' is not defined",
     "output_type": "error",
     "traceback": [
      "\u001b[0;31m---------------------------------------------------------------------------\u001b[0m",
      "\u001b[0;31mNameError\u001b[0m                                 Traceback (most recent call last)",
      "Input \u001b[0;32mIn [58]\u001b[0m, in \u001b[0;36m<cell line: 1>\u001b[0;34m()\u001b[0m\n\u001b[0;32m----> 1\u001b[0m input_scaled \u001b[38;5;241m=\u001b[39m scaler2\u001b[38;5;241m.\u001b[39mtransform(\u001b[43minput_feat_df\u001b[49m)\n\u001b[1;32m      2\u001b[0m inputdf_scale\u001b[38;5;241m=\u001b[39mpd\u001b[38;5;241m.\u001b[39mDataFrame(input_scaled,columns\u001b[38;5;241m=\u001b[39m[\u001b[38;5;124m\"\u001b[39m\u001b[38;5;124mdanceability\u001b[39m\u001b[38;5;124m\"\u001b[39m,\u001b[38;5;124m\"\u001b[39m\u001b[38;5;124menergy\u001b[39m\u001b[38;5;124m\"\u001b[39m,\u001b[38;5;124m\"\u001b[39m\u001b[38;5;124mkey\u001b[39m\u001b[38;5;124m\"\u001b[39m,\u001b[38;5;124m\"\u001b[39m\u001b[38;5;124mspeechiness\u001b[39m\u001b[38;5;124m\"\u001b[39m,\u001b[38;5;124m\"\u001b[39m\u001b[38;5;124macousticness\u001b[39m\u001b[38;5;124m\"\u001b[39m,\n\u001b[1;32m      3\u001b[0m                                     \u001b[38;5;124m\"\u001b[39m\u001b[38;5;124minstrumentalness\u001b[39m\u001b[38;5;124m\"\u001b[39m,\u001b[38;5;124m\"\u001b[39m\u001b[38;5;124mliveness\u001b[39m\u001b[38;5;124m\"\u001b[39m,\u001b[38;5;124m\"\u001b[39m\u001b[38;5;124mvalence\u001b[39m\u001b[38;5;124m\"\u001b[39m,\u001b[38;5;124m\"\u001b[39m\u001b[38;5;124mtempo\u001b[39m\u001b[38;5;124m\"\u001b[39m])\n\u001b[1;32m      4\u001b[0m inputdf_scale\n",
      "\u001b[0;31mNameError\u001b[0m: name 'input_feat_df' is not defined"
     ]
    }
   ],
   "source": [
    "input_scaled = scaler2.transform(input_feat_df)\n",
    "inputdf_scale=pd.DataFrame(input_scaled,columns=[\"danceability\",\"energy\",\"key\",\"speechiness\",\"acousticness\",\n",
    "                                    \"instrumentalness\",\"liveness\",\"valence\",\"tempo\"])\n",
    "inputdf_scale\n"
   ]
  },
  {
   "cell_type": "code",
   "execution_count": null,
   "id": "742b9cc7",
   "metadata": {},
   "outputs": [],
   "source": [
    "prediction = kmeans2.predict(inputdf_scale)\n",
    "prediction\n",
    "pd.Series(prediction).value_counts().sort_index()"
   ]
  },
  {
   "cell_type": "code",
   "execution_count": null,
   "id": "17ff9d5a",
   "metadata": {},
   "outputs": [],
   "source": [
    "pred = prediction[0]\n",
    "pred"
   ]
  },
  {
   "cell_type": "code",
   "execution_count": null,
   "id": "45ca9f30",
   "metadata": {},
   "outputs": [],
   "source": [
    "clusterdf = df.loc[df['cluster']==pred]\n",
    "clusterdf.reset_index(drop=True)\n",
    "###9 was the biggest group most likely pop\n",
    "\n",
    "             "
   ]
  },
  {
   "cell_type": "code",
   "execution_count": null,
   "id": "1edb9018",
   "metadata": {},
   "outputs": [],
   "source": [
    "song_idlist = clusterdf['song_identity'].tolist()\n",
    "\n",
    "#lets use this to get our random id\n",
    "\n",
    "songrec= random.choice(song_idlist)\n"
   ]
  },
  {
   "cell_type": "code",
   "execution_count": 77,
   "id": "58aec4b1",
   "metadata": {},
   "outputs": [
    {
     "ename": "NameError",
     "evalue": "name 'songrec' is not defined",
     "output_type": "error",
     "traceback": [
      "\u001b[0;31m---------------------------------------------------------------------------\u001b[0m",
      "\u001b[0;31mNameError\u001b[0m                                 Traceback (most recent call last)",
      "Input \u001b[0;32mIn [77]\u001b[0m, in \u001b[0;36m<cell line: 1>\u001b[0;34m()\u001b[0m\n\u001b[0;32m----> 1\u001b[0m (IFrame(src\u001b[38;5;241m=\u001b[39m\u001b[38;5;124m\"\u001b[39m\u001b[38;5;124mhttps://open.spotify.com/embed/track/\u001b[39m\u001b[38;5;124m\"\u001b[39m\u001b[38;5;241m+\u001b[39m\u001b[43msongrec\u001b[49m,\n\u001b[1;32m      2\u001b[0m        width\u001b[38;5;241m=\u001b[39m\u001b[38;5;124m\"\u001b[39m\u001b[38;5;124m320\u001b[39m\u001b[38;5;124m\"\u001b[39m,\n\u001b[1;32m      3\u001b[0m        height\u001b[38;5;241m=\u001b[39m\u001b[38;5;124m\"\u001b[39m\u001b[38;5;124m80\u001b[39m\u001b[38;5;124m\"\u001b[39m,\n\u001b[1;32m      4\u001b[0m        frameborder\u001b[38;5;241m=\u001b[39m\u001b[38;5;124m\"\u001b[39m\u001b[38;5;124m0\u001b[39m\u001b[38;5;124m\"\u001b[39m,\n\u001b[1;32m      5\u001b[0m        allowtransparency\u001b[38;5;241m=\u001b[39m\u001b[38;5;124m\"\u001b[39m\u001b[38;5;124mtrue\u001b[39m\u001b[38;5;124m\"\u001b[39m,\n\u001b[1;32m      6\u001b[0m        allow\u001b[38;5;241m=\u001b[39m\u001b[38;5;124m\"\u001b[39m\u001b[38;5;124mencrypted-media\u001b[39m\u001b[38;5;124m\"\u001b[39m))\n",
      "\u001b[0;31mNameError\u001b[0m: name 'songrec' is not defined"
     ]
    }
   ],
   "source": [
    "(IFrame(src=\"https://open.spotify.com/embed/track/\"+songrec,\n",
    "       width=\"320\",\n",
    "       height=\"80\",\n",
    "       frameborder=\"0\",\n",
    "       allowtransparency=\"true\",\n",
    "       allow=\"encrypted-media\"))\n",
    "    \n"
   ]
  },
  {
   "cell_type": "code",
   "execution_count": 79,
   "id": "c92e9ac9",
   "metadata": {},
   "outputs": [
    {
     "name": "stdout",
     "output_type": "stream",
     "text": [
      "Enter your song: smells like teen spirit\n"
     ]
    },
    {
     "data": {
      "text/html": [
       "\n",
       "        <iframe\n",
       "            width=\"320\"\n",
       "            height=\"80\"\n",
       "            src=\"https://open.spotify.com/embed/track/6SjbzGo7arjfM5cXpXhc5B?frameborder=0&allowtransparency=true&allow=encrypted-media\"\n",
       "            frameborder=\"0\"\n",
       "            allowfullscreen\n",
       "            \n",
       "        ></iframe>\n",
       "        "
      ],
      "text/plain": [
       "<IPython.lib.display.IFrame at 0x7fb8ae67ae80>"
      ]
     },
     "execution_count": 79,
     "metadata": {},
     "output_type": "execute_result"
    }
   ],
   "source": [
    "hot_stuff()"
   ]
  }
 ],
 "metadata": {
  "kernelspec": {
   "display_name": "Python 3 (ipykernel)",
   "language": "python",
   "name": "python3"
  },
  "language_info": {
   "codemirror_mode": {
    "name": "ipython",
    "version": 3
   },
   "file_extension": ".py",
   "mimetype": "text/x-python",
   "name": "python",
   "nbconvert_exporter": "python",
   "pygments_lexer": "ipython3",
   "version": "3.9.12"
  }
 },
 "nbformat": 4,
 "nbformat_minor": 5
}
